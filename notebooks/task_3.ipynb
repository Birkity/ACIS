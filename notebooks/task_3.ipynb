{
 "cells": [
  {
   "cell_type": "markdown",
   "metadata": {},
   "source": [
    "Data Segmentation"
   ]
  },
  {
   "cell_type": "code",
   "execution_count": 5,
   "metadata": {},
   "outputs": [],
   "source": [
    "import pandas as pd\n",
    "import numpy as np\n",
    "import seaborn as sns\n",
    "import matplotlib.pyplot as plt\n",
    "from scipy.stats import ttest_ind"
   ]
  },
  {
   "cell_type": "code",
   "execution_count": 6,
   "metadata": {},
   "outputs": [
    {
     "name": "stderr",
     "output_type": "stream",
     "text": [
      "C:\\Users\\USER\\AppData\\Local\\Temp\\ipykernel_10064\\2599512217.py:1: DtypeWarning: Columns (32,37) have mixed types. Specify dtype option on import or set low_memory=False.\n",
      "  df = pd.read_csv('data_cleaned.csv')\n"
     ]
    }
   ],
   "source": [
    "df = pd.read_csv('data_cleaned.csv')"
   ]
  },
  {
   "cell_type": "code",
   "execution_count": 7,
   "metadata": {},
   "outputs": [],
   "source": [
    "df['Risk'] = df['TotalClaims'] / df['TotalPremium']\n",
    "df['ProfitMargin'] = df['TotalPremium'] - df['TotalClaims']"
   ]
  },
  {
   "cell_type": "code",
   "execution_count": 8,
   "metadata": {},
   "outputs": [],
   "source": [
    "df.dropna(subset=['Risk', 'ProfitMargin'], inplace=True)"
   ]
  },
  {
   "cell_type": "code",
   "execution_count": 9,
   "metadata": {},
   "outputs": [],
   "source": [
    "def perform_ttest(group_a, group_b, col):\n",
    "    stat, p_value = ttest_ind(group_a[col], group_b[col], nan_policy='omit')\n",
    "    return p_value"
   ]
  },
  {
   "cell_type": "code",
   "execution_count": 10,
   "metadata": {},
   "outputs": [],
   "source": [
    "def perform_chi2test(group_a, group_b, col):\n",
    "    contingency_table = pd.crosstab(group_a[col], group_b[col])\n",
    "    chi2, p_value, _, _ = chi2_contingency(contingency_table)\n",
    "    return p_value"
   ]
  },
  {
   "cell_type": "code",
   "execution_count": 11,
   "metadata": {},
   "outputs": [],
   "source": [
    "def print_result(p_value, hypothesis):\n",
    "    if p_value < 0.05:\n",
    "        print(f\"Reject the null hypothesis: {hypothesis}\")\n",
    "    else:\n",
    "        print(f\"Fail to reject the null hypothesis: {hypothesis}\")"
   ]
  },
  {
   "cell_type": "code",
   "execution_count": 12,
   "metadata": {},
   "outputs": [],
   "source": [
    "def visualize_groups(group_a, group_b, col, group_name, xlabel, ylabel):\n",
    "  \n",
    "    combined = pd.concat([group_a.assign(Group=group_name[0]), group_b.assign(Group=group_name[1])])\n",
    "\n",
    "    plt.figure(figsize=(10, 6))\n",
    "    sns.boxplot(x='Group', y=col, data=combined)\n",
    "    plt.title(f'Boxplot of {ylabel} by Group')\n",
    "    plt.xlabel(xlabel)\n",
    "    plt.ylabel(ylabel)\n",
    "    plt.show()\n",
    "\n",
    "    plt.figure(figsize=(8, 5))\n",
    "    sns.barplot(x='Group', y=col, data=combined, estimator=np.mean, ci='sd')\n",
    "    plt.title(f'Mean {ylabel} Comparison by Group')\n",
    "    plt.xlabel(xlabel)\n",
    "    plt.ylabel(f'Mean {ylabel}')\n",
    "    plt.show()"
   ]
  }
 ],
 "metadata": {
  "kernelspec": {
   "display_name": "ven",
   "language": "python",
   "name": "python3"
  },
  "language_info": {
   "codemirror_mode": {
    "name": "ipython",
    "version": 3
   },
   "file_extension": ".py",
   "mimetype": "text/x-python",
   "name": "python",
   "nbconvert_exporter": "python",
   "pygments_lexer": "ipython3",
   "version": "3.11.2"
  }
 },
 "nbformat": 4,
 "nbformat_minor": 2
}
