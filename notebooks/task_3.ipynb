{
 "cells": [
  {
   "cell_type": "markdown",
   "metadata": {},
   "source": [
    "Data Segmentation"
   ]
  },
  {
   "cell_type": "code",
   "execution_count": 5,
   "metadata": {},
   "outputs": [],
   "source": [
    "import pandas as pd\n",
    "import numpy as np\n",
    "import seaborn as sns\n",
    "import matplotlib.pyplot as plt\n",
    "from scipy.stats import ttest_ind"
   ]
  },
  {
   "cell_type": "code",
   "execution_count": 6,
   "metadata": {},
   "outputs": [
    {
     "name": "stderr",
     "output_type": "stream",
     "text": [
      "C:\\Users\\USER\\AppData\\Local\\Temp\\ipykernel_10064\\2599512217.py:1: DtypeWarning: Columns (32,37) have mixed types. Specify dtype option on import or set low_memory=False.\n",
      "  df = pd.read_csv('data_cleaned.csv')\n"
     ]
    }
   ],
   "source": [
    "df = pd.read_csv('data_cleaned.csv')"
   ]
  },
  {
   "cell_type": "code",
   "execution_count": 7,
   "metadata": {},
   "outputs": [],
   "source": [
    "df['Risk'] = df['TotalClaims'] / df['TotalPremium']\n",
    "df['ProfitMargin'] = df['TotalPremium'] - df['TotalClaims']"
   ]
  },
  {
   "cell_type": "code",
   "execution_count": 8,
   "metadata": {},
   "outputs": [],
   "source": [
    "df.dropna(subset=['Risk', 'ProfitMargin'], inplace=True)"
   ]
  },
  {
   "cell_type": "code",
   "execution_count": 9,
   "metadata": {},
   "outputs": [],
   "source": [
    "def perform_ttest(group_a, group_b, col):\n",
    "    stat, p_value = ttest_ind(group_a[col], group_b[col], nan_policy='omit')\n",
    "    return p_value"
   ]
  },
  {
   "cell_type": "code",
   "execution_count": 10,
   "metadata": {},
   "outputs": [],
   "source": [
    "def perform_chi2test(group_a, group_b, col):\n",
    "    contingency_table = pd.crosstab(group_a[col], group_b[col])\n",
    "    chi2, p_value, _, _ = chi2_contingency(contingency_table)\n",
    "    return p_value"
   ]
  },
  {
   "cell_type": "code",
   "execution_count": 11,
   "metadata": {},
   "outputs": [],
   "source": [
    "def print_result(p_value, hypothesis):\n",
    "    if p_value < 0.05:\n",
    "        print(f\"Reject the null hypothesis: {hypothesis}\")\n",
    "    else:\n",
    "        print(f\"Fail to reject the null hypothesis: {hypothesis}\")"
   ]
  },
  {
   "cell_type": "code",
   "execution_count": 12,
   "metadata": {},
   "outputs": [],
   "source": [
    "def visualize_groups(group_a, group_b, col, group_name, xlabel, ylabel):\n",
    "  \n",
    "    combined = pd.concat([group_a.assign(Group=group_name[0]), group_b.assign(Group=group_name[1])])\n",
    "\n",
    "    plt.figure(figsize=(10, 6))\n",
    "    sns.boxplot(x='Group', y=col, data=combined)\n",
    "    plt.title(f'Boxplot of {ylabel} by Group')\n",
    "    plt.xlabel(xlabel)\n",
    "    plt.ylabel(ylabel)\n",
    "    plt.show()\n",
    "\n",
    "    plt.figure(figsize=(8, 5))\n",
    "    sns.barplot(x='Group', y=col, data=combined, estimator=np.mean, ci='sd')\n",
    "    plt.title(f'Mean {ylabel} Comparison by Group')\n",
    "    plt.xlabel(xlabel)\n",
    "    plt.ylabel(f'Mean {ylabel}')\n",
    "    plt.show()"
   ]
  },
  {
   "cell_type": "code",
   "execution_count": 19,
   "metadata": {},
   "outputs": [],
   "source": [
    "\n",
    "unique_provinces = df['Province'].unique()\n",
    "unique_postal_codes = df['PostalCode'].unique()\n",
    "unique_genders = df['Gender'].unique()"
   ]
  },
  {
   "cell_type": "code",
   "execution_count": 21,
   "metadata": {},
   "outputs": [
    {
     "name": "stdout",
     "output_type": "stream",
     "text": [
      "\n",
      "Hypothesis 1: No risk differences across provinces\n",
      "Gauteng sample size: 240883\n",
      "All other provinces sample size: 377731\n",
      "Fail to reject the null hypothesis: There are no risk differences between Gauteng and all other provinces\n",
      "\n",
      "Hypothesis 1: No risk differences across provinces\n"
     ]
    },
    {
     "name": "stderr",
     "output_type": "stream",
     "text": [
      "c:\\Users\\USER\\Documents\\OPLearning\\10_Academy\\Week_3\\ven\\Lib\\site-packages\\numpy\\_core\\_methods.py:136: RuntimeWarning: invalid value encountered in reduce\n",
      "  ret = umr_sum(arr, axis, dtype, out, keepdims, where=where)\n"
     ]
    },
    {
     "name": "stdout",
     "output_type": "stream",
     "text": [
      "KwaZulu-Natal sample size: 112172\n",
      "All other provinces sample size: 506442\n",
      "Fail to reject the null hypothesis: There are no risk differences between KwaZulu-Natal and all other provinces\n",
      "\n",
      "Hypothesis 1: No risk differences across provinces\n",
      "Mpumalanga sample size: 31668\n",
      "All other provinces sample size: 586946\n",
      "Fail to reject the null hypothesis: There are no risk differences between Mpumalanga and all other provinces\n",
      "\n",
      "Hypothesis 1: No risk differences across provinces\n",
      "Eastern Cape sample size: 19701\n",
      "All other provinces sample size: 598913\n",
      "Fail to reject the null hypothesis: There are no risk differences between Eastern Cape and all other provinces\n",
      "\n",
      "Hypothesis 1: No risk differences across provinces\n",
      "Western Cape sample size: 96789\n",
      "All other provinces sample size: 521825\n",
      "Fail to reject the null hypothesis: There are no risk differences between Western Cape and all other provinces\n",
      "\n",
      "Hypothesis 1: No risk differences across provinces\n",
      "Limpopo sample size: 18010\n",
      "All other provinces sample size: 600604\n",
      "Fail to reject the null hypothesis: There are no risk differences between Limpopo and all other provinces\n",
      "\n",
      "Hypothesis 1: No risk differences across provinces\n",
      "North West sample size: 89814\n",
      "All other provinces sample size: 528800\n",
      "Fail to reject the null hypothesis: There are no risk differences between North West and all other provinces\n",
      "\n",
      "Hypothesis 1: No risk differences across provinces\n",
      "Free State sample size: 5934\n",
      "All other provinces sample size: 612680\n",
      "Fail to reject the null hypothesis: There are no risk differences between Free State and all other provinces\n",
      "\n",
      "Hypothesis 1: No risk differences across provinces\n",
      "Northern Cape sample size: 3643\n",
      "All other provinces sample size: 614971\n",
      "Fail to reject the null hypothesis: There are no risk differences between Northern Cape and all other provinces\n"
     ]
    }
   ],
   "source": [
    "for province in unique_provinces:\n",
    "    print(f\"\\nHypothesis 1: No risk differences across provinces\")\n",
    "    province_a = df[df['Province'] == province]\n",
    "    province_b = df[df['Province'] != province]  \n",
    "    \n",
    "    print(f\"{province} sample size: {len(province_a)}\")\n",
    "    print(f\"All other provinces sample size: {len(province_b)}\")\n",
    "    \n",
    "    p_value = perform_ttest(province_a, province_b, 'Risk')\n",
    "    print_result(p_value, f\"There are no risk differences between {province} and all other provinces\")\n",
    "    \n",
    "    "
   ]
  }
 ],
 "metadata": {
  "kernelspec": {
   "display_name": "ven",
   "language": "python",
   "name": "python3"
  },
  "language_info": {
   "codemirror_mode": {
    "name": "ipython",
    "version": 3
   },
   "file_extension": ".py",
   "mimetype": "text/x-python",
   "name": "python",
   "nbconvert_exporter": "python",
   "pygments_lexer": "ipython3",
   "version": "3.11.2"
  }
 },
 "nbformat": 4,
 "nbformat_minor": 2
}
